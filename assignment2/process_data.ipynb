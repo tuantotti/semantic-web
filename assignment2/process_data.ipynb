{
 "cells": [
  {
   "cell_type": "code",
   "execution_count": 1,
   "id": "f113e6a5",
   "metadata": {},
   "outputs": [],
   "source": [
    "import pandas as pd\n",
    "import json\n",
    "import re"
   ]
  },
  {
   "cell_type": "code",
   "execution_count": null,
   "id": "49b96ee4",
   "metadata": {},
   "outputs": [],
   "source": [
    "FIXTURE_PATH = \"./data/fixtures-2023-2024.json\"\n",
    "\n",
    "\n",
    "with open(FIXTURE_PATH, \"r\") as file:\n",
    "    fixtures = json.load(file)"
   ]
  },
  {
   "cell_type": "code",
   "execution_count": 3,
   "id": "ae004ae8",
   "metadata": {},
   "outputs": [
    {
     "data": {
      "text/plain": [
       "380"
      ]
     },
     "execution_count": 3,
     "metadata": {},
     "output_type": "execute_result"
    }
   ],
   "source": [
    "len(fixtures[\"result\"])"
   ]
  },
  {
   "cell_type": "code",
   "execution_count": 4,
   "id": "82f59f4b",
   "metadata": {},
   "outputs": [
    {
     "data": {
      "text/plain": [
       "['event_key',\n",
       " 'event_date',\n",
       " 'event_time',\n",
       " 'event_home_team',\n",
       " 'home_team_key',\n",
       " 'event_away_team',\n",
       " 'away_team_key',\n",
       " 'event_halftime_result',\n",
       " 'event_final_result',\n",
       " 'event_ft_result',\n",
       " 'event_penalty_result',\n",
       " 'event_status',\n",
       " 'country_name',\n",
       " 'league_name',\n",
       " 'league_key',\n",
       " 'league_round',\n",
       " 'league_season',\n",
       " 'event_live',\n",
       " 'event_stadium',\n",
       " 'event_referee',\n",
       " 'home_team_logo',\n",
       " 'away_team_logo',\n",
       " 'event_country_key',\n",
       " 'league_logo',\n",
       " 'country_logo',\n",
       " 'event_home_formation',\n",
       " 'event_away_formation',\n",
       " 'fk_stage_key',\n",
       " 'stage_name',\n",
       " 'league_group',\n",
       " 'goalscorers',\n",
       " 'substitutes',\n",
       " 'cards',\n",
       " 'vars',\n",
       " 'lineups',\n",
       " 'statistics',\n",
       " 'player_stats']"
      ]
     },
     "execution_count": 4,
     "metadata": {},
     "output_type": "execute_result"
    }
   ],
   "source": [
    "list(fixtures[\"result\"][0].keys())"
   ]
  },
  {
   "cell_type": "markdown",
   "id": "5fb8b9e8",
   "metadata": {},
   "source": [
    "# Players"
   ]
  },
  {
   "cell_type": "code",
   "execution_count": 5,
   "id": "aa275fb0",
   "metadata": {},
   "outputs": [],
   "source": [
    "player_df = pd.DataFrame(\n",
    "    columns=[\n",
    "        \"PlayerID\",\n",
    "        \"PlayerName\",\n",
    "        \"height\",\n",
    "        \"PlayerBirthdate\",\n",
    "        \"PlayerPosition\",\n",
    "        \"TeamID\",\n",
    "        \"AwardID\",\n",
    "        \"StatsID\",\n",
    "    ]\n",
    ")\n",
    "\n",
    "players = {}\n",
    "for fixture in fixtures[\"result\"]:\n",
    "    player_stats = fixture.get(\"player_stats\")\n",
    "\n",
    "    home_team_key = fixture.get(\"home_team_key\")\n",
    "    home_players = player_stats.get(\"home\")\n",
    "\n",
    "    away_team_key = fixture.get(\"away_team_key\")\n",
    "    away_players = player_stats.get(\"away\")\n",
    "\n",
    "    for player in home_players:\n",
    "        player_name = player.get(\"player_name\")\n",
    "        player_key = player.get(\"player_key\")\n",
    "        player_position = player.get(\"player_position\")\n",
    "        team_id = home_team_key\n",
    "\n",
    "        if not player_key in players:\n",
    "            players[player_key] = {\n",
    "                \"PlayerID\": player_key,\n",
    "                \"PlayerName\": player_name,\n",
    "                \"height\": 0.0,\n",
    "                \"PlayerBirthdate\": \"\",\n",
    "                \"PlayerPosition\": player_position,\n",
    "                \"TeamID\": str(team_id),\n",
    "                \"AwardID\": \"\",\n",
    "                \"StatsID\": \"\",\n",
    "            }\n",
    "\n",
    "    for player in away_players:\n",
    "        player_name = player.get(\"player_name\")\n",
    "        player_key = player.get(\"player_key\")\n",
    "        player_position = player.get(\"player_position\")\n",
    "        team_id = away_team_key\n",
    "\n",
    "        if not player_key in players:\n",
    "            players[player_key] = {\n",
    "                \"PlayerID\": player_key,\n",
    "                \"PlayerName\": player_name,\n",
    "                \"height\": 0.0,\n",
    "                \"PlayerBirthdate\": \"\",\n",
    "                \"PlayerPosition\": player_position,\n",
    "                \"TeamID\": str(team_id),\n",
    "                \"AwardID\": \"\",\n",
    "                \"StatsID\": \"\",\n",
    "            }"
   ]
  },
  {
   "cell_type": "code",
   "execution_count": 6,
   "id": "a6075c87",
   "metadata": {},
   "outputs": [
    {
     "data": {
      "text/plain": [
       "732"
      ]
     },
     "execution_count": 6,
     "metadata": {},
     "output_type": "execute_result"
    }
   ],
   "source": [
    "len(players.keys())"
   ]
  },
  {
   "cell_type": "code",
   "execution_count": 7,
   "id": "d216ce86",
   "metadata": {},
   "outputs": [],
   "source": [
    "temp_players = []\n",
    "for key, value in players.items():\n",
    "    temp_players.append(value)\n",
    "\n",
    "player_df = pd.DataFrame(temp_players)"
   ]
  },
  {
   "cell_type": "code",
   "execution_count": 8,
   "id": "1305ce46",
   "metadata": {},
   "outputs": [
    {
     "data": {
      "text/html": [
       "<div>\n",
       "<style scoped>\n",
       "    .dataframe tbody tr th:only-of-type {\n",
       "        vertical-align: middle;\n",
       "    }\n",
       "\n",
       "    .dataframe tbody tr th {\n",
       "        vertical-align: top;\n",
       "    }\n",
       "\n",
       "    .dataframe thead th {\n",
       "        text-align: right;\n",
       "    }\n",
       "</style>\n",
       "<table border=\"1\" class=\"dataframe\">\n",
       "  <thead>\n",
       "    <tr style=\"text-align: right;\">\n",
       "      <th></th>\n",
       "      <th>PlayerID</th>\n",
       "      <th>PlayerName</th>\n",
       "      <th>height</th>\n",
       "      <th>PlayerBirthdate</th>\n",
       "      <th>PlayerPosition</th>\n",
       "      <th>TeamID</th>\n",
       "      <th>AwardID</th>\n",
       "      <th>StatsID</th>\n",
       "    </tr>\n",
       "  </thead>\n",
       "  <tbody>\n",
       "    <tr>\n",
       "      <th>0</th>\n",
       "      <td>3446405013</td>\n",
       "      <td>David Raya</td>\n",
       "      <td>0.0</td>\n",
       "      <td></td>\n",
       "      <td>Goalkeepers</td>\n",
       "      <td>141</td>\n",
       "      <td></td>\n",
       "      <td></td>\n",
       "    </tr>\n",
       "    <tr>\n",
       "      <th>1</th>\n",
       "      <td>1058876140</td>\n",
       "      <td>Benjamin White</td>\n",
       "      <td>0.0</td>\n",
       "      <td></td>\n",
       "      <td>Defenders</td>\n",
       "      <td>141</td>\n",
       "      <td></td>\n",
       "      <td></td>\n",
       "    </tr>\n",
       "    <tr>\n",
       "      <th>2</th>\n",
       "      <td>1690625216</td>\n",
       "      <td>William Saliba</td>\n",
       "      <td>0.0</td>\n",
       "      <td></td>\n",
       "      <td>Defenders</td>\n",
       "      <td>141</td>\n",
       "      <td></td>\n",
       "      <td></td>\n",
       "    </tr>\n",
       "    <tr>\n",
       "      <th>3</th>\n",
       "      <td>1215841429</td>\n",
       "      <td>Gabriel Magalhães</td>\n",
       "      <td>0.0</td>\n",
       "      <td></td>\n",
       "      <td>Defenders</td>\n",
       "      <td>141</td>\n",
       "      <td></td>\n",
       "      <td></td>\n",
       "    </tr>\n",
       "    <tr>\n",
       "      <th>4</th>\n",
       "      <td>2999851979</td>\n",
       "      <td>Takehiro Tomiyasu</td>\n",
       "      <td>0.0</td>\n",
       "      <td></td>\n",
       "      <td>Defenders</td>\n",
       "      <td>141</td>\n",
       "      <td></td>\n",
       "      <td></td>\n",
       "    </tr>\n",
       "  </tbody>\n",
       "</table>\n",
       "</div>"
      ],
      "text/plain": [
       "     PlayerID         PlayerName  height PlayerBirthdate PlayerPosition  \\\n",
       "0  3446405013         David Raya     0.0                    Goalkeepers   \n",
       "1  1058876140     Benjamin White     0.0                      Defenders   \n",
       "2  1690625216     William Saliba     0.0                      Defenders   \n",
       "3  1215841429  Gabriel Magalhães     0.0                      Defenders   \n",
       "4  2999851979  Takehiro Tomiyasu     0.0                      Defenders   \n",
       "\n",
       "  TeamID AwardID StatsID  \n",
       "0    141                  \n",
       "1    141                  \n",
       "2    141                  \n",
       "3    141                  \n",
       "4    141                  "
      ]
     },
     "execution_count": 8,
     "metadata": {},
     "output_type": "execute_result"
    }
   ],
   "source": [
    "player_df.head()"
   ]
  },
  {
   "cell_type": "code",
   "execution_count": 57,
   "id": "e85faae8",
   "metadata": {},
   "outputs": [],
   "source": [
    "player_df.to_excel(\"./crawled_dataset/player_dataset.xlsx\", index=False)"
   ]
  },
  {
   "cell_type": "code",
   "execution_count": null,
   "id": "9de3d5f6",
   "metadata": {},
   "outputs": [],
   "source": []
  },
  {
   "cell_type": "markdown",
   "id": "b0ad1d8e",
   "metadata": {},
   "source": [
    "# Match"
   ]
  },
  {
   "cell_type": "code",
   "execution_count": 64,
   "id": "9831def2",
   "metadata": {},
   "outputs": [],
   "source": [
    "matches = {}\n",
    "referees = {}\n",
    "performancestats = {}\n",
    "\n",
    "\n",
    "for fixture in fixtures[\"result\"]:\n",
    "    event_key = fixture.get(\"event_key\")\n",
    "    home_team_key = fixture.get(\"home_team_key\")\n",
    "    away_team_key = fixture.get(\"away_team_key\")\n",
    "    event_final_result = fixture.get(\"event_final_result\")\n",
    "    event_date = fixture.get(\"event_date\")\n",
    "    event_stadium = fixture.get(\"event_stadium\")\n",
    "\n",
    "    if event_key not in matches:\n",
    "        matches[event_key] = {\n",
    "            \"MatchID\": event_key,\n",
    "            \"MatchHomeTeam\": home_team_key,\n",
    "            \"MatchAwayTeam\": away_team_key,\n",
    "            \"Score\": event_final_result,\n",
    "            \"Date\": event_date,\n",
    "            \"StadiumID\": event_stadium,\n",
    "        }"
   ]
  },
  {
   "cell_type": "code",
   "execution_count": 65,
   "id": "7154a96d",
   "metadata": {},
   "outputs": [],
   "source": [
    "match_df = pd.DataFrame([value for key, value in matches.items()])"
   ]
  },
  {
   "cell_type": "code",
   "execution_count": 71,
   "id": "ebab743f",
   "metadata": {},
   "outputs": [
    {
     "data": {
      "text/plain": [
       "(380, 6)"
      ]
     },
     "execution_count": 71,
     "metadata": {},
     "output_type": "execute_result"
    }
   ],
   "source": [
    "match_df.shape"
   ]
  },
  {
   "cell_type": "code",
   "execution_count": null,
   "id": "1f936dc0",
   "metadata": {},
   "outputs": [],
   "source": [
    "match_df.to_excel(\"./data/match_dataset.xlsx\", index=False)"
   ]
  },
  {
   "cell_type": "code",
   "execution_count": null,
   "id": "f6b40bb8",
   "metadata": {},
   "outputs": [],
   "source": []
  },
  {
   "cell_type": "markdown",
   "id": "a2362da5",
   "metadata": {},
   "source": [
    "# Referee"
   ]
  },
  {
   "cell_type": "code",
   "execution_count": 38,
   "id": "952eb550",
   "metadata": {},
   "outputs": [],
   "source": [
    "referees = {}\n",
    "\n",
    "for fixture in fixtures[\"result\"]:\n",
    "    event_key = fixture.get(\"event_key\")\n",
    "    event_referee = fixture.get(\"event_referee\")\n",
    "\n",
    "    referees[event_key] = {\n",
    "        \"RefereeID\": \"\",\n",
    "        \"RefereeName\": event_referee,\n",
    "        \"RefereeNationality\": \"\",\n",
    "        \"RBirthdate\": \"\",\n",
    "        \"MatchID\": event_key,\n",
    "    }"
   ]
  },
  {
   "cell_type": "code",
   "execution_count": 39,
   "id": "d2ef7a14",
   "metadata": {},
   "outputs": [],
   "source": [
    "referees_df = pd.DataFrame([value for key, value in referees.items()])"
   ]
  },
  {
   "cell_type": "code",
   "execution_count": 40,
   "id": "6758254d",
   "metadata": {},
   "outputs": [
    {
     "name": "stdout",
     "output_type": "stream",
     "text": [
      "(380, 5)\n"
     ]
    },
    {
     "data": {
      "text/html": [
       "<div>\n",
       "<style scoped>\n",
       "    .dataframe tbody tr th:only-of-type {\n",
       "        vertical-align: middle;\n",
       "    }\n",
       "\n",
       "    .dataframe tbody tr th {\n",
       "        vertical-align: top;\n",
       "    }\n",
       "\n",
       "    .dataframe thead th {\n",
       "        text-align: right;\n",
       "    }\n",
       "</style>\n",
       "<table border=\"1\" class=\"dataframe\">\n",
       "  <thead>\n",
       "    <tr style=\"text-align: right;\">\n",
       "      <th></th>\n",
       "      <th>RefereeID</th>\n",
       "      <th>RefereeName</th>\n",
       "      <th>RefereeNationality</th>\n",
       "      <th>RBirthdate</th>\n",
       "      <th>MatchID</th>\n",
       "    </tr>\n",
       "  </thead>\n",
       "  <tbody>\n",
       "    <tr>\n",
       "      <th>0</th>\n",
       "      <td></td>\n",
       "      <td>M. Oliver</td>\n",
       "      <td></td>\n",
       "      <td></td>\n",
       "      <td>1226163</td>\n",
       "    </tr>\n",
       "    <tr>\n",
       "      <th>1</th>\n",
       "      <td></td>\n",
       "      <td>S. Hooper</td>\n",
       "      <td></td>\n",
       "      <td></td>\n",
       "      <td>1226164</td>\n",
       "    </tr>\n",
       "    <tr>\n",
       "      <th>2</th>\n",
       "      <td></td>\n",
       "      <td>C. Pawson</td>\n",
       "      <td></td>\n",
       "      <td></td>\n",
       "      <td>1226165</td>\n",
       "    </tr>\n",
       "    <tr>\n",
       "      <th>3</th>\n",
       "      <td></td>\n",
       "      <td>G. Scott</td>\n",
       "      <td></td>\n",
       "      <td></td>\n",
       "      <td>1226166</td>\n",
       "    </tr>\n",
       "    <tr>\n",
       "      <th>4</th>\n",
       "      <td></td>\n",
       "      <td>A. Taylor</td>\n",
       "      <td></td>\n",
       "      <td></td>\n",
       "      <td>1226167</td>\n",
       "    </tr>\n",
       "  </tbody>\n",
       "</table>\n",
       "</div>"
      ],
      "text/plain": [
       "  RefereeID RefereeName RefereeNationality RBirthdate  MatchID\n",
       "0             M. Oliver                                1226163\n",
       "1             S. Hooper                                1226164\n",
       "2             C. Pawson                                1226165\n",
       "3              G. Scott                                1226166\n",
       "4             A. Taylor                                1226167"
      ]
     },
     "execution_count": 40,
     "metadata": {},
     "output_type": "execute_result"
    }
   ],
   "source": [
    "print(referees_df.shape)\n",
    "referees_df.head()"
   ]
  },
  {
   "cell_type": "code",
   "execution_count": null,
   "id": "06b0e215",
   "metadata": {},
   "outputs": [],
   "source": [
    "referees_df.to_excel(\"./data/referee_dataset.xlsx\", index=False)"
   ]
  },
  {
   "cell_type": "code",
   "execution_count": null,
   "id": "28a9e04f",
   "metadata": {},
   "outputs": [],
   "source": []
  },
  {
   "cell_type": "markdown",
   "id": "47f58774",
   "metadata": {},
   "source": [
    "# Stadium"
   ]
  },
  {
   "cell_type": "code",
   "execution_count": 74,
   "id": "8615fb28",
   "metadata": {},
   "outputs": [],
   "source": [
    "stadiums = {}\n",
    "\n",
    "for fixture in fixtures[\"result\"]:\n",
    "    event_stadium = fixture.get(\"event_stadium\")\n",
    "    country_name = fixture.get(\"country_name\")\n",
    "    event_home_team = fixture.get(\"event_home_team\")\n",
    "    stadium_region = \"\"\n",
    "    \n",
    "    match = re.search(r\"\\((.*?)\\)\", event_stadium)\n",
    "    if match:\n",
    "        stadium_region = f\"{match.group(1)} {country_name}\"\n",
    "    else:\n",
    "        stadium_region = country_name\n",
    "        \n",
    "    if event_stadium:\n",
    "        stadiums[event_stadium] = {\n",
    "            \"StadiumID\": \"\",\n",
    "            \"StadiumName\": event_stadium,\n",
    "            \"StadiumRegion\": stadium_region,\n",
    "            \"HomeTeam\": event_home_team,\n",
    "            \"Capacity\": \"\",\n",
    "            \"OpeningYear\": \"\",\n",
    "        }"
   ]
  },
  {
   "cell_type": "code",
   "execution_count": 75,
   "id": "fcb66b10",
   "metadata": {},
   "outputs": [],
   "source": [
    "stadiums_df = pd.DataFrame([value for key, value in stadiums.items()])"
   ]
  },
  {
   "cell_type": "code",
   "execution_count": 76,
   "id": "7b959555",
   "metadata": {},
   "outputs": [
    {
     "data": {
      "text/plain": [
       "(21, 6)"
      ]
     },
     "execution_count": 76,
     "metadata": {},
     "output_type": "execute_result"
    }
   ],
   "source": [
    "stadiums_df.shape"
   ]
  },
  {
   "cell_type": "code",
   "execution_count": 77,
   "id": "27d5e937",
   "metadata": {},
   "outputs": [
    {
     "data": {
      "text/html": [
       "<div>\n",
       "<style scoped>\n",
       "    .dataframe tbody tr th:only-of-type {\n",
       "        vertical-align: middle;\n",
       "    }\n",
       "\n",
       "    .dataframe tbody tr th {\n",
       "        vertical-align: top;\n",
       "    }\n",
       "\n",
       "    .dataframe thead th {\n",
       "        text-align: right;\n",
       "    }\n",
       "</style>\n",
       "<table border=\"1\" class=\"dataframe\">\n",
       "  <thead>\n",
       "    <tr style=\"text-align: right;\">\n",
       "      <th></th>\n",
       "      <th>StadiumID</th>\n",
       "      <th>StadiumName</th>\n",
       "      <th>StadiumRegion</th>\n",
       "      <th>HomeTeam</th>\n",
       "      <th>Capacity</th>\n",
       "      <th>OpeningYear</th>\n",
       "    </tr>\n",
       "  </thead>\n",
       "  <tbody>\n",
       "    <tr>\n",
       "      <th>0</th>\n",
       "      <td></td>\n",
       "      <td>Emirates Stadium (London)</td>\n",
       "      <td>London England</td>\n",
       "      <td>Arsenal</td>\n",
       "      <td></td>\n",
       "      <td></td>\n",
       "    </tr>\n",
       "    <tr>\n",
       "      <th>1</th>\n",
       "      <td></td>\n",
       "      <td>Gtech Community Stadium (Brentford, Middlesex)</td>\n",
       "      <td>Brentford, Middlesex England</td>\n",
       "      <td>Brentford</td>\n",
       "      <td></td>\n",
       "      <td></td>\n",
       "    </tr>\n",
       "    <tr>\n",
       "      <th>2</th>\n",
       "      <td></td>\n",
       "      <td>American Express Stadium (Falmer, East Sussex)</td>\n",
       "      <td>Falmer, East Sussex England</td>\n",
       "      <td>Brighton &amp; Hove Albion</td>\n",
       "      <td></td>\n",
       "      <td></td>\n",
       "    </tr>\n",
       "    <tr>\n",
       "      <th>3</th>\n",
       "      <td></td>\n",
       "      <td>Turf Moor (Burnley)</td>\n",
       "      <td>Burnley England</td>\n",
       "      <td>Burnley</td>\n",
       "      <td></td>\n",
       "      <td></td>\n",
       "    </tr>\n",
       "    <tr>\n",
       "      <th>4</th>\n",
       "      <td></td>\n",
       "      <td>Stamford Bridge (London)</td>\n",
       "      <td>London England</td>\n",
       "      <td>Chelsea</td>\n",
       "      <td></td>\n",
       "      <td></td>\n",
       "    </tr>\n",
       "  </tbody>\n",
       "</table>\n",
       "</div>"
      ],
      "text/plain": [
       "  StadiumID                                     StadiumName  \\\n",
       "0                                 Emirates Stadium (London)   \n",
       "1            Gtech Community Stadium (Brentford, Middlesex)   \n",
       "2            American Express Stadium (Falmer, East Sussex)   \n",
       "3                                       Turf Moor (Burnley)   \n",
       "4                                  Stamford Bridge (London)   \n",
       "\n",
       "                  StadiumRegion                HomeTeam Capacity OpeningYear  \n",
       "0                London England                 Arsenal                       \n",
       "1  Brentford, Middlesex England               Brentford                       \n",
       "2   Falmer, East Sussex England  Brighton & Hove Albion                       \n",
       "3               Burnley England                 Burnley                       \n",
       "4                London England                 Chelsea                       "
      ]
     },
     "execution_count": 77,
     "metadata": {},
     "output_type": "execute_result"
    }
   ],
   "source": [
    "stadiums_df.head()"
   ]
  },
  {
   "cell_type": "code",
   "execution_count": 78,
   "id": "f689d5ad",
   "metadata": {},
   "outputs": [],
   "source": [
    "stadiums_df.to_excel(\"./crawled_dataset/stadium_dataset.xlsx\", index=False)"
   ]
  },
  {
   "cell_type": "markdown",
   "id": "311443d8",
   "metadata": {},
   "source": [
    "# Performance stats"
   ]
  },
  {
   "cell_type": "code",
   "execution_count": null,
   "id": "19670f6c",
   "metadata": {},
   "outputs": [],
   "source": [
    "from uuid import uuid4\n",
    "\n",
    "performancestats = {}\n",
    "\n",
    "for fixture in fixtures[\"result\"]:\n",
    "    event_key = fixture.get(\"event_key\")\n",
    "    league_season = fixture.get(\"league_season\")\n",
    "    player_stats = fixture.get(\"player_stats\")\n",
    "    home_stats = player_stats.get(\"home\")\n",
    "    home_stats = player_stats.get(\"home\")\n",
    "    away_stats = player_stats.get(\"away\")\n",
    "\n",
    "    for home_stat in home_stats:\n",
    "        player_key = home_stat.get(\"player_key\")\n",
    "        player_goals = home_stat.get(\"player_goals\")\n",
    "        player_assists = home_stat.get(\"player_assists\")\n",
    "        player_yellow_cards = home_stat.get(\"player_yellow_cards\")\n",
    "        player_red_cards = home_stat.get(\"player_red_cards\")\n",
    "        player_fouls_commited = home_stat.get(\"player_fouls_commited\")\n",
    "        player_passes_acc = home_stat.get(\"player_passes_acc\")\n",
    "\n",
    "        if f\"{player_key}_{event_key}\" not in performancestats:\n",
    "            performancestats[f\"{player_key}_{event_key}\"] = {\n",
    "                \"StatsID\": uuid4().hex,\n",
    "                \"MatchID\": event_key,\n",
    "                \"PlayerID\": player_key,\n",
    "                \"GoalsScored\": player_goals,\n",
    "                \"Assists\": player_assists,\n",
    "                \"YellowCards\": player_yellow_cards,\n",
    "                \"RedCards\": player_red_cards,\n",
    "                \"Fouls\": player_fouls_commited,\n",
    "                \"Pass Accuracy\": player_passes_acc,\n",
    "                \"Season\": league_season,\n",
    "            }\n",
    "\n",
    "    for away_stat in away_stats:\n",
    "        player_key = away_stat.get(\"player_key\")\n",
    "        player_goals = away_stat.get(\"player_goals\")\n",
    "        player_assists = away_stat.get(\"player_assists\")\n",
    "        player_yellow_cards = away_stat.get(\"player_yellow_cards\")\n",
    "        player_red_cards = away_stat.get(\"player_red_cards\")\n",
    "        player_fouls_commited = away_stat.get(\"player_fouls_commited\")\n",
    "        player_passes_acc = away_stat.get(\"player_passes_acc\")\n",
    "\n",
    "        if f\"{player_key}_{event_key}\" not in performancestats:\n",
    "            performancestats[f\"{player_key}_{event_key}\"] = {\n",
    "                \"StatsID\": uuid4().hex,\n",
    "                \"MatchID\": event_key,\n",
    "                \"PlayerID\": player_key,\n",
    "                \"GoalsScored\": player_goals,\n",
    "                \"Assists\": player_assists,\n",
    "                \"YellowCards\": player_yellow_cards,\n",
    "                \"RedCards\": player_red_cards,\n",
    "                \"Fouls\": player_fouls_commited,\n",
    "                \"Pass Accuracy\": player_passes_acc,\n",
    "                \"Season\": league_season,\n",
    "            }"
   ]
  },
  {
   "cell_type": "code",
   "execution_count": 13,
   "id": "8e0aa140",
   "metadata": {},
   "outputs": [],
   "source": [
    "performancestats_df = pd.DataFrame([value for key, value in performancestats.items()])"
   ]
  },
  {
   "cell_type": "code",
   "execution_count": 14,
   "id": "2f7576c9",
   "metadata": {},
   "outputs": [
    {
     "data": {
      "text/html": [
       "<div>\n",
       "<style scoped>\n",
       "    .dataframe tbody tr th:only-of-type {\n",
       "        vertical-align: middle;\n",
       "    }\n",
       "\n",
       "    .dataframe tbody tr th {\n",
       "        vertical-align: top;\n",
       "    }\n",
       "\n",
       "    .dataframe thead th {\n",
       "        text-align: right;\n",
       "    }\n",
       "</style>\n",
       "<table border=\"1\" class=\"dataframe\">\n",
       "  <thead>\n",
       "    <tr style=\"text-align: right;\">\n",
       "      <th></th>\n",
       "      <th>StatsID</th>\n",
       "      <th>MatchID</th>\n",
       "      <th>PlayerID</th>\n",
       "      <th>GoalsScored</th>\n",
       "      <th>Assists</th>\n",
       "      <th>YellowCards</th>\n",
       "      <th>RedCards</th>\n",
       "      <th>Fouls</th>\n",
       "      <th>Pass Accuracy</th>\n",
       "      <th>Season</th>\n",
       "    </tr>\n",
       "  </thead>\n",
       "  <tbody>\n",
       "    <tr>\n",
       "      <th>0</th>\n",
       "      <td>99182aa688a042469f62b6251b3902c7</td>\n",
       "      <td>1226163</td>\n",
       "      <td>3446405013</td>\n",
       "      <td>0</td>\n",
       "      <td>0</td>\n",
       "      <td>0</td>\n",
       "      <td>0</td>\n",
       "      <td>0</td>\n",
       "      <td>13</td>\n",
       "      <td>2023/2024</td>\n",
       "    </tr>\n",
       "    <tr>\n",
       "      <th>1</th>\n",
       "      <td>8de45c1bd62b40abb1c8eed974042dd1</td>\n",
       "      <td>1226163</td>\n",
       "      <td>1058876140</td>\n",
       "      <td>0</td>\n",
       "      <td>0</td>\n",
       "      <td>0</td>\n",
       "      <td>0</td>\n",
       "      <td>0</td>\n",
       "      <td>62</td>\n",
       "      <td>2023/2024</td>\n",
       "    </tr>\n",
       "    <tr>\n",
       "      <th>2</th>\n",
       "      <td>f256bb96af864992aeaeba6e9944983c</td>\n",
       "      <td>1226163</td>\n",
       "      <td>1690625216</td>\n",
       "      <td>0</td>\n",
       "      <td>0</td>\n",
       "      <td>0</td>\n",
       "      <td>0</td>\n",
       "      <td>0</td>\n",
       "      <td>88</td>\n",
       "      <td>2023/2024</td>\n",
       "    </tr>\n",
       "    <tr>\n",
       "      <th>3</th>\n",
       "      <td>887df814e05440d89fff4c9a3aef25de</td>\n",
       "      <td>1226163</td>\n",
       "      <td>1215841429</td>\n",
       "      <td>0</td>\n",
       "      <td>0</td>\n",
       "      <td>0</td>\n",
       "      <td>0</td>\n",
       "      <td>0</td>\n",
       "      <td>39</td>\n",
       "      <td>2023/2024</td>\n",
       "    </tr>\n",
       "    <tr>\n",
       "      <th>4</th>\n",
       "      <td>174afbf350e44eacbc36ca6cad230dd8</td>\n",
       "      <td>1226163</td>\n",
       "      <td>2999851979</td>\n",
       "      <td>1</td>\n",
       "      <td>0</td>\n",
       "      <td>0</td>\n",
       "      <td>0</td>\n",
       "      <td>0</td>\n",
       "      <td>43</td>\n",
       "      <td>2023/2024</td>\n",
       "    </tr>\n",
       "  </tbody>\n",
       "</table>\n",
       "</div>"
      ],
      "text/plain": [
       "                            StatsID  MatchID    PlayerID  GoalsScored  \\\n",
       "0  99182aa688a042469f62b6251b3902c7  1226163  3446405013            0   \n",
       "1  8de45c1bd62b40abb1c8eed974042dd1  1226163  1058876140            0   \n",
       "2  f256bb96af864992aeaeba6e9944983c  1226163  1690625216            0   \n",
       "3  887df814e05440d89fff4c9a3aef25de  1226163  1215841429            0   \n",
       "4  174afbf350e44eacbc36ca6cad230dd8  1226163  2999851979            1   \n",
       "\n",
       "   Assists  YellowCards  RedCards  Fouls  Pass Accuracy     Season  \n",
       "0        0            0         0      0             13  2023/2024  \n",
       "1        0            0         0      0             62  2023/2024  \n",
       "2        0            0         0      0             88  2023/2024  \n",
       "3        0            0         0      0             39  2023/2024  \n",
       "4        0            0         0      0             43  2023/2024  "
      ]
     },
     "execution_count": 14,
     "metadata": {},
     "output_type": "execute_result"
    }
   ],
   "source": [
    "performancestats_df.head()"
   ]
  },
  {
   "cell_type": "code",
   "execution_count": 15,
   "id": "01fbd409",
   "metadata": {},
   "outputs": [
    {
     "data": {
      "text/plain": [
       "(15100, 10)"
      ]
     },
     "execution_count": 15,
     "metadata": {},
     "output_type": "execute_result"
    }
   ],
   "source": [
    "performancestats_df.shape"
   ]
  },
  {
   "cell_type": "code",
   "execution_count": null,
   "id": "736c0f06",
   "metadata": {},
   "outputs": [],
   "source": [
    "performancestats_df.to_excel(\"./data/performancestats_dataset.xlsx\", index=False)"
   ]
  },
  {
   "cell_type": "code",
   "execution_count": null,
   "id": "3ba6dde8",
   "metadata": {},
   "outputs": [],
   "source": []
  },
  {
   "cell_type": "markdown",
   "id": "10a7b2ff",
   "metadata": {},
   "source": [
    "# Coach"
   ]
  },
  {
   "cell_type": "code",
   "execution_count": 22,
   "id": "6f45a03e",
   "metadata": {},
   "outputs": [],
   "source": [
    "coaches = {}\n",
    "\n",
    "for fixture in fixtures[\"result\"]:\n",
    "    event_key = fixture.get(\"event_key\")\n",
    "\n",
    "    home_team_key = fixture.get(\"home_team_key\")\n",
    "    event_home_team = fixture.get(\"event_home_team\")\n",
    "    away_team_key = fixture.get(\"away_team_key\")\n",
    "    event_away_team = fixture.get(\"event_away_team\")\n",
    "\n",
    "    lineups = fixture.get(\"lineups\")\n",
    "    home_lineups = lineups.get(\"home_team\")\n",
    "    away_lineups = lineups.get(\"away_team\")\n",
    "\n",
    "    event_home_formation = fixture.get(\"event_home_formation\")\n",
    "    event_away_formation = fixture.get(\"event_away_formation\")\n",
    "\n",
    "    home_coaches = home_lineups.get(\"coaches\")\n",
    "    home_coach = home_coaches[0].get(\"coache\")\n",
    "\n",
    "    away_coaches = away_lineups.get(\"coaches\")\n",
    "    away_coach = away_coaches[0].get(\"coache\")\n",
    "\n",
    "    if home_coach not in coaches:\n",
    "        coaches[home_coach] = {\n",
    "            \"CoachID\": \"\",\n",
    "            \"CoachName\": home_coach,\n",
    "            \"CoachNationality\": \"\",\n",
    "            \"CPreferredFormation\": event_home_formation,\n",
    "            \"CPreviousTeams\": event_home_team,\n",
    "            \"TeamID\": home_team_key,\n",
    "        }\n",
    "\n",
    "    if away_coach not in coaches:\n",
    "        coaches[away_coach] = {\n",
    "            \"CoachID\": \"\",\n",
    "            \"CoachName\": away_coach,\n",
    "            \"CoachNationality\": \"\",\n",
    "            \"CPreferredFormation\": event_away_formation,\n",
    "            \"CPreviousTeams\": event_away_team,\n",
    "            \"TeamID\": away_team_key,\n",
    "        }"
   ]
  },
  {
   "cell_type": "code",
   "execution_count": 23,
   "id": "0f6c7618",
   "metadata": {},
   "outputs": [],
   "source": [
    "coaches_df = pd.DataFrame([value for key, value in coaches.items()])"
   ]
  },
  {
   "cell_type": "code",
   "execution_count": 24,
   "id": "d2136ca1",
   "metadata": {},
   "outputs": [
    {
     "data": {
      "text/plain": [
       "(23, 6)"
      ]
     },
     "execution_count": 24,
     "metadata": {},
     "output_type": "execute_result"
    }
   ],
   "source": [
    "coaches_df.shape"
   ]
  },
  {
   "cell_type": "code",
   "execution_count": 25,
   "id": "d3194b20",
   "metadata": {},
   "outputs": [
    {
     "data": {
      "text/html": [
       "<div>\n",
       "<style scoped>\n",
       "    .dataframe tbody tr th:only-of-type {\n",
       "        vertical-align: middle;\n",
       "    }\n",
       "\n",
       "    .dataframe tbody tr th {\n",
       "        vertical-align: top;\n",
       "    }\n",
       "\n",
       "    .dataframe thead th {\n",
       "        text-align: right;\n",
       "    }\n",
       "</style>\n",
       "<table border=\"1\" class=\"dataframe\">\n",
       "  <thead>\n",
       "    <tr style=\"text-align: right;\">\n",
       "      <th></th>\n",
       "      <th>CoachID</th>\n",
       "      <th>CoachName</th>\n",
       "      <th>CoachNationality</th>\n",
       "      <th>CPreferredFormation</th>\n",
       "      <th>CPreviousTeams</th>\n",
       "      <th>TeamID</th>\n",
       "    </tr>\n",
       "  </thead>\n",
       "  <tbody>\n",
       "    <tr>\n",
       "      <th>0</th>\n",
       "      <td></td>\n",
       "      <td>Mikel Arteta</td>\n",
       "      <td></td>\n",
       "      <td>4-3-3</td>\n",
       "      <td>Arsenal</td>\n",
       "      <td>141</td>\n",
       "    </tr>\n",
       "    <tr>\n",
       "      <th>1</th>\n",
       "      <td></td>\n",
       "      <td>S. Dyche</td>\n",
       "      <td></td>\n",
       "      <td>4-4-1-1</td>\n",
       "      <td>Everton</td>\n",
       "      <td>3073</td>\n",
       "    </tr>\n",
       "    <tr>\n",
       "      <th>2</th>\n",
       "      <td></td>\n",
       "      <td>T. Frank</td>\n",
       "      <td></td>\n",
       "      <td>4-3-3</td>\n",
       "      <td>Brentford</td>\n",
       "      <td>3086</td>\n",
       "    </tr>\n",
       "    <tr>\n",
       "      <th>3</th>\n",
       "      <td></td>\n",
       "      <td>E. Howe</td>\n",
       "      <td></td>\n",
       "      <td>4-3-3</td>\n",
       "      <td>Newcastle United</td>\n",
       "      <td>3100</td>\n",
       "    </tr>\n",
       "    <tr>\n",
       "      <th>4</th>\n",
       "      <td></td>\n",
       "      <td>R. De Zerbi</td>\n",
       "      <td></td>\n",
       "      <td>4-2-3-1</td>\n",
       "      <td>Brighton &amp; Hove Albion</td>\n",
       "      <td>3079</td>\n",
       "    </tr>\n",
       "  </tbody>\n",
       "</table>\n",
       "</div>"
      ],
      "text/plain": [
       "  CoachID     CoachName CoachNationality CPreferredFormation  \\\n",
       "0          Mikel Arteta                                4-3-3   \n",
       "1              S. Dyche                              4-4-1-1   \n",
       "2              T. Frank                                4-3-3   \n",
       "3               E. Howe                                4-3-3   \n",
       "4           R. De Zerbi                              4-2-3-1   \n",
       "\n",
       "           CPreviousTeams  TeamID  \n",
       "0                 Arsenal     141  \n",
       "1                 Everton    3073  \n",
       "2               Brentford    3086  \n",
       "3        Newcastle United    3100  \n",
       "4  Brighton & Hove Albion    3079  "
      ]
     },
     "execution_count": 25,
     "metadata": {},
     "output_type": "execute_result"
    }
   ],
   "source": [
    "coaches_df.head()"
   ]
  },
  {
   "cell_type": "code",
   "execution_count": null,
   "id": "9572c2f8",
   "metadata": {},
   "outputs": [],
   "source": [
    "coaches_df.to_excel(\"./data/coach_dataset.xlsx\", index=False)"
   ]
  },
  {
   "cell_type": "markdown",
   "id": "fc38c633",
   "metadata": {},
   "source": [
    "# Team"
   ]
  },
  {
   "cell_type": "code",
   "execution_count": 32,
   "id": "6eb8c6f9",
   "metadata": {},
   "outputs": [],
   "source": [
    "teams = {}\n",
    "\n",
    "for fixture in fixtures[\"result\"]:\n",
    "    event_key = fixture.get(\"event_key\")\n",
    "    league_name = fixture.get(\"league_name\")\n",
    "    league_key = fixture.get(\"league_key\")\n",
    "    event_stadium = fixture.get(\"event_stadium\")\n",
    "\n",
    "    home_team_key = fixture.get(\"home_team_key\")\n",
    "    event_home_team = fixture.get(\"event_home_team\")\n",
    "    away_team_key = fixture.get(\"away_team_key\")\n",
    "    event_away_team = fixture.get(\"event_away_team\")\n",
    "\n",
    "    lineups = fixture.get(\"lineups\")\n",
    "    home_lineups = lineups.get(\"home_team\")\n",
    "    away_lineups = lineups.get(\"away_team\")\n",
    "\n",
    "    event_home_formation = fixture.get(\"event_home_formation\")\n",
    "    event_away_formation = fixture.get(\"event_away_formation\")\n",
    "\n",
    "    if event_home_team not in teams:\n",
    "        teams[home_team_key] = {\n",
    "            \"TeamID\": home_team_key,\n",
    "            \"TeamName\": event_home_team,\n",
    "            \"TeamFormation\": event_home_formation,\n",
    "            \"TeamLeague\": league_name,\n",
    "            \"StadiumID\": event_stadium,\n",
    "            \"TrophyID\": \"\",\n",
    "            \"LeagueID\": league_key,\n",
    "            \"TournamentID\": 6,\n",
    "            \"TeamRanking\": \"\",\n",
    "            \"TeamSeason\": league_season,\n",
    "        }\n",
    "\n",
    "    if away_team_key not in teams:\n",
    "        teams[away_team_key] = {\n",
    "            \"TeamID\": away_team_key,\n",
    "            \"TeamName\": event_away_team,\n",
    "            \"TeamFormation\": event_away_formation,\n",
    "            \"TeamLeague\": league_name,\n",
    "            \"StadiumID\": event_stadium,\n",
    "            \"TrophyID\": \"\",\n",
    "            \"LeagueID\": league_key,\n",
    "            \"TournamentID\": 6,\n",
    "            \"TeamRanking\": \"\",\n",
    "            \"TeamSeason\": league_season,\n",
    "        }"
   ]
  },
  {
   "cell_type": "code",
   "execution_count": 33,
   "id": "4cee2a7a",
   "metadata": {},
   "outputs": [],
   "source": [
    "teams_df = pd.DataFrame([value for key, value in teams.items()])"
   ]
  },
  {
   "cell_type": "code",
   "execution_count": 34,
   "id": "a915acba",
   "metadata": {},
   "outputs": [
    {
     "data": {
      "text/plain": [
       "(20, 10)"
      ]
     },
     "execution_count": 34,
     "metadata": {},
     "output_type": "execute_result"
    }
   ],
   "source": [
    "teams_df.shape"
   ]
  },
  {
   "cell_type": "code",
   "execution_count": 35,
   "id": "22ca2836",
   "metadata": {},
   "outputs": [
    {
     "data": {
      "text/html": [
       "<div>\n",
       "<style scoped>\n",
       "    .dataframe tbody tr th:only-of-type {\n",
       "        vertical-align: middle;\n",
       "    }\n",
       "\n",
       "    .dataframe tbody tr th {\n",
       "        vertical-align: top;\n",
       "    }\n",
       "\n",
       "    .dataframe thead th {\n",
       "        text-align: right;\n",
       "    }\n",
       "</style>\n",
       "<table border=\"1\" class=\"dataframe\">\n",
       "  <thead>\n",
       "    <tr style=\"text-align: right;\">\n",
       "      <th></th>\n",
       "      <th>TeamID</th>\n",
       "      <th>TeamName</th>\n",
       "      <th>TeamFormation</th>\n",
       "      <th>TeamLeague</th>\n",
       "      <th>StadiumID</th>\n",
       "      <th>TrophyID</th>\n",
       "      <th>LeagueID</th>\n",
       "      <th>TournamentID</th>\n",
       "      <th>TeamRanking</th>\n",
       "      <th>TeamSeason</th>\n",
       "    </tr>\n",
       "  </thead>\n",
       "  <tbody>\n",
       "    <tr>\n",
       "      <th>0</th>\n",
       "      <td>141</td>\n",
       "      <td>Arsenal</td>\n",
       "      <td>4-3-3</td>\n",
       "      <td>Premier League</td>\n",
       "      <td>Emirates Stadium (London)</td>\n",
       "      <td></td>\n",
       "      <td>152</td>\n",
       "      <td>6</td>\n",
       "      <td></td>\n",
       "      <td>2023/2024</td>\n",
       "    </tr>\n",
       "    <tr>\n",
       "      <th>1</th>\n",
       "      <td>3073</td>\n",
       "      <td>Everton</td>\n",
       "      <td>4-4-1-1</td>\n",
       "      <td>Premier League</td>\n",
       "      <td>Goodison Park (Liverpool)</td>\n",
       "      <td></td>\n",
       "      <td>152</td>\n",
       "      <td>6</td>\n",
       "      <td></td>\n",
       "      <td>2023/2024</td>\n",
       "    </tr>\n",
       "    <tr>\n",
       "      <th>2</th>\n",
       "      <td>3086</td>\n",
       "      <td>Brentford</td>\n",
       "      <td>5-3-2</td>\n",
       "      <td>Premier League</td>\n",
       "      <td>Gtech Community Stadium (Brentford, Middlesex)</td>\n",
       "      <td></td>\n",
       "      <td>152</td>\n",
       "      <td>6</td>\n",
       "      <td></td>\n",
       "      <td>2023/2024</td>\n",
       "    </tr>\n",
       "    <tr>\n",
       "      <th>3</th>\n",
       "      <td>3100</td>\n",
       "      <td>Newcastle United</td>\n",
       "      <td>4-3-3</td>\n",
       "      <td>Premier League</td>\n",
       "      <td>St. James' Park (Newcastle upon Tyne)</td>\n",
       "      <td></td>\n",
       "      <td>152</td>\n",
       "      <td>6</td>\n",
       "      <td></td>\n",
       "      <td>2023/2024</td>\n",
       "    </tr>\n",
       "    <tr>\n",
       "      <th>4</th>\n",
       "      <td>3079</td>\n",
       "      <td>Brighton &amp; Hove Albion</td>\n",
       "      <td>4-2-3-1</td>\n",
       "      <td>Premier League</td>\n",
       "      <td>The American Express Community Stadium (Falmer...</td>\n",
       "      <td></td>\n",
       "      <td>152</td>\n",
       "      <td>6</td>\n",
       "      <td></td>\n",
       "      <td>2023/2024</td>\n",
       "    </tr>\n",
       "  </tbody>\n",
       "</table>\n",
       "</div>"
      ],
      "text/plain": [
       "   TeamID                TeamName TeamFormation      TeamLeague  \\\n",
       "0     141                 Arsenal         4-3-3  Premier League   \n",
       "1    3073                 Everton       4-4-1-1  Premier League   \n",
       "2    3086               Brentford         5-3-2  Premier League   \n",
       "3    3100        Newcastle United         4-3-3  Premier League   \n",
       "4    3079  Brighton & Hove Albion       4-2-3-1  Premier League   \n",
       "\n",
       "                                           StadiumID TrophyID  LeagueID  \\\n",
       "0                          Emirates Stadium (London)                152   \n",
       "1                          Goodison Park (Liverpool)                152   \n",
       "2     Gtech Community Stadium (Brentford, Middlesex)                152   \n",
       "3              St. James' Park (Newcastle upon Tyne)                152   \n",
       "4  The American Express Community Stadium (Falmer...                152   \n",
       "\n",
       "   TournamentID TeamRanking TeamSeason  \n",
       "0             6              2023/2024  \n",
       "1             6              2023/2024  \n",
       "2             6              2023/2024  \n",
       "3             6              2023/2024  \n",
       "4             6              2023/2024  "
      ]
     },
     "execution_count": 35,
     "metadata": {},
     "output_type": "execute_result"
    }
   ],
   "source": [
    "teams_df.head()"
   ]
  },
  {
   "cell_type": "code",
   "execution_count": null,
   "id": "87875f98",
   "metadata": {},
   "outputs": [],
   "source": [
    "teams_df.to_excel(\"./data/team_dataset.xlsx\", index=False)"
   ]
  }
 ],
 "metadata": {
  "kernelspec": {
   "display_name": "Python 3 (ipykernel)",
   "language": "python",
   "name": "python3"
  },
  "language_info": {
   "codemirror_mode": {
    "name": "ipython",
    "version": 3
   },
   "file_extension": ".py",
   "mimetype": "text/x-python",
   "name": "python",
   "nbconvert_exporter": "python",
   "pygments_lexer": "ipython3",
   "version": "3.12.11"
  }
 },
 "nbformat": 4,
 "nbformat_minor": 5
}
